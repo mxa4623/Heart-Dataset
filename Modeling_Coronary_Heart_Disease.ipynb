{
 "cells": [
  {
   "cell_type": "markdown",
   "metadata": {},
   "source": [
    "# ![](https://img.webmd.com/dtmcms/live/webmd/consumer_assets/site_images/articles/health_tools/did_you_know_this_could_lead_to_heart_disease_slideshow/493ss_thinkstock_rf_heart_illustration.jpg) Modeling For Coronary Heart Disease..."
   ]
  },
  {
   "cell_type": "markdown",
   "metadata": {},
   "source": [
    "### Importing Libraries\n"
   ]
  },
  {
   "cell_type": "code",
   "execution_count": 3,
   "metadata": {},
   "outputs": [],
   "source": [
    "import pandas as pd\n",
    "import numpy as np\n",
    "import matplotlib.pyplot as plt\n",
    "import seaborn as sns   #importing libraries\n",
    "from sklearn.tree import DecisionTreeClassifier, plot_tree, export_text\n",
    "from sklearn.model_selection import train_test_split, GridSearchCV\n",
    "from sklearn.multiclass import OneVsRestClassifier\n",
    "from sklearn.ensemble import BaggingClassifier\n",
    "from sklearn.preprocessing import StandardScaler\n",
    "# import LinearSVC\n",
    "from sklearn.svm import LinearSVC\n",
    "from sklearn.svm import SVC\n",
    "from sklearn.metrics import confusion_matrix, classification_report, \\\n",
    "recall_score, precision_score, accuracy_score\n",
    "from sklearn.ensemble import RandomForestClassifier, ExtraTreesClassifier\n",
    "from sklearn.neighbors import KNeighborsClassifier\n",
    "from sklearn.linear_model import LogisticRegression\n",
    "from sklearn.metrics import mean_squared_error "
   ]
  },
  {
   "cell_type": "markdown",
   "metadata": {},
   "source": [
    "### Import Datasets"
   ]
  },
  {
   "cell_type": "markdown",
   "metadata": {},
   "source": [
    "datasource : https://chronicdata.cdc.gov/Heart-Disease-Stroke-Prevention/National-Vital-Statistics-System-NVSS-National-Car/kztq-p2jf"
   ]
  },
  {
   "cell_type": "code",
   "execution_count": 4,
   "metadata": {},
   "outputs": [],
   "source": [
    "stroke = pd.read_csv('./datasets/stroke.csv') #importing the dataset"
   ]
  },
  {
   "cell_type": "code",
   "execution_count": 5,
   "metadata": {},
   "outputs": [
    {
     "data": {
      "text/html": [
       "<div>\n",
       "<style scoped>\n",
       "    .dataframe tbody tr th:only-of-type {\n",
       "        vertical-align: middle;\n",
       "    }\n",
       "\n",
       "    .dataframe tbody tr th {\n",
       "        vertical-align: top;\n",
       "    }\n",
       "\n",
       "    .dataframe thead th {\n",
       "        text-align: right;\n",
       "    }\n",
       "</style>\n",
       "<table border=\"1\" class=\"dataframe\">\n",
       "  <thead>\n",
       "    <tr style=\"text-align: right;\">\n",
       "      <th></th>\n",
       "      <th>Year</th>\n",
       "      <th>LocationAbbr</th>\n",
       "      <th>LocationDesc</th>\n",
       "      <th>Category</th>\n",
       "      <th>Topic</th>\n",
       "      <th>Indicator</th>\n",
       "      <th>Data_Value_Type</th>\n",
       "      <th>Data_Value_Unit</th>\n",
       "      <th>Data_Value</th>\n",
       "      <th>LowConfidenceLimit</th>\n",
       "      <th>...</th>\n",
       "      <th>Break_Out_Non-Hispanic White</th>\n",
       "      <th>Break_Out_Other</th>\n",
       "      <th>Break_Out_Overall</th>\n",
       "      <th>Topic_Acute Myocardial Infarction (Heart Attack)</th>\n",
       "      <th>Topic_Coronary Heart Disease</th>\n",
       "      <th>Topic_Diseases of the Heart (Heart Disease)</th>\n",
       "      <th>Topic_Heart Failure</th>\n",
       "      <th>Topic_Major Cardiovascular Disease</th>\n",
       "      <th>Topic_Stroke</th>\n",
       "      <th>AvgConfidenceLimit</th>\n",
       "    </tr>\n",
       "  </thead>\n",
       "  <tbody>\n",
       "    <tr>\n",
       "      <th>0</th>\n",
       "      <td>2013</td>\n",
       "      <td>IL</td>\n",
       "      <td>Illinois</td>\n",
       "      <td>Cardiovascular Diseases</td>\n",
       "      <td>Stroke</td>\n",
       "      <td>Rate of ischemic stroke mortality among US adu...</td>\n",
       "      <td>0</td>\n",
       "      <td>Rate per 100,000</td>\n",
       "      <td>30.0</td>\n",
       "      <td>30.0</td>\n",
       "      <td>...</td>\n",
       "      <td>0</td>\n",
       "      <td>0</td>\n",
       "      <td>0</td>\n",
       "      <td>0</td>\n",
       "      <td>0</td>\n",
       "      <td>0</td>\n",
       "      <td>0</td>\n",
       "      <td>0</td>\n",
       "      <td>1</td>\n",
       "      <td>1.000000</td>\n",
       "    </tr>\n",
       "    <tr>\n",
       "      <th>1</th>\n",
       "      <td>2000</td>\n",
       "      <td>MT</td>\n",
       "      <td>Montana</td>\n",
       "      <td>Cardiovascular Diseases</td>\n",
       "      <td>Major Cardiovascular Disease</td>\n",
       "      <td>Rate of major cardiovascular disease mortality...</td>\n",
       "      <td>0</td>\n",
       "      <td>Rate per 100,000</td>\n",
       "      <td>362.3</td>\n",
       "      <td>358.6</td>\n",
       "      <td>...</td>\n",
       "      <td>0</td>\n",
       "      <td>1</td>\n",
       "      <td>0</td>\n",
       "      <td>0</td>\n",
       "      <td>0</td>\n",
       "      <td>0</td>\n",
       "      <td>0</td>\n",
       "      <td>1</td>\n",
       "      <td>0</td>\n",
       "      <td>0.806205</td>\n",
       "    </tr>\n",
       "    <tr>\n",
       "      <th>2</th>\n",
       "      <td>2001</td>\n",
       "      <td>KS</td>\n",
       "      <td>Kansas</td>\n",
       "      <td>Cardiovascular Diseases</td>\n",
       "      <td>Stroke</td>\n",
       "      <td>Rate of ischemic stroke mortality among US adu...</td>\n",
       "      <td>1</td>\n",
       "      <td>Rate per 100,000</td>\n",
       "      <td>24.1</td>\n",
       "      <td>23.5</td>\n",
       "      <td>...</td>\n",
       "      <td>0</td>\n",
       "      <td>0</td>\n",
       "      <td>0</td>\n",
       "      <td>0</td>\n",
       "      <td>0</td>\n",
       "      <td>0</td>\n",
       "      <td>0</td>\n",
       "      <td>0</td>\n",
       "      <td>1</td>\n",
       "      <td>0.679191</td>\n",
       "    </tr>\n",
       "    <tr>\n",
       "      <th>3</th>\n",
       "      <td>2004</td>\n",
       "      <td>AL</td>\n",
       "      <td>Alabama</td>\n",
       "      <td>Cardiovascular Diseases</td>\n",
       "      <td>Stroke</td>\n",
       "      <td>Rate of ischemic stroke mortality among US adu...</td>\n",
       "      <td>1</td>\n",
       "      <td>Rate per 100,000</td>\n",
       "      <td>1.6</td>\n",
       "      <td>1.6</td>\n",
       "      <td>...</td>\n",
       "      <td>0</td>\n",
       "      <td>0</td>\n",
       "      <td>0</td>\n",
       "      <td>0</td>\n",
       "      <td>0</td>\n",
       "      <td>0</td>\n",
       "      <td>0</td>\n",
       "      <td>0</td>\n",
       "      <td>1</td>\n",
       "      <td>0.640000</td>\n",
       "    </tr>\n",
       "    <tr>\n",
       "      <th>4</th>\n",
       "      <td>2002</td>\n",
       "      <td>OH</td>\n",
       "      <td>Ohio</td>\n",
       "      <td>Cardiovascular Diseases</td>\n",
       "      <td>Major Cardiovascular Disease</td>\n",
       "      <td>Rate of major cardiovascular disease mortality...</td>\n",
       "      <td>1</td>\n",
       "      <td>Rate per 100,000</td>\n",
       "      <td>28.0</td>\n",
       "      <td>27.9</td>\n",
       "      <td>...</td>\n",
       "      <td>0</td>\n",
       "      <td>0</td>\n",
       "      <td>0</td>\n",
       "      <td>0</td>\n",
       "      <td>0</td>\n",
       "      <td>0</td>\n",
       "      <td>0</td>\n",
       "      <td>1</td>\n",
       "      <td>0</td>\n",
       "      <td>0.992883</td>\n",
       "    </tr>\n",
       "  </tbody>\n",
       "</table>\n",
       "<p>5 rows × 43 columns</p>\n",
       "</div>"
      ],
      "text/plain": [
       "   Year LocationAbbr LocationDesc                 Category  \\\n",
       "0  2013           IL     Illinois  Cardiovascular Diseases   \n",
       "1  2000           MT      Montana  Cardiovascular Diseases   \n",
       "2  2001           KS       Kansas  Cardiovascular Diseases   \n",
       "3  2004           AL      Alabama  Cardiovascular Diseases   \n",
       "4  2002           OH         Ohio  Cardiovascular Diseases   \n",
       "\n",
       "                          Topic  \\\n",
       "0                        Stroke   \n",
       "1  Major Cardiovascular Disease   \n",
       "2                        Stroke   \n",
       "3                        Stroke   \n",
       "4  Major Cardiovascular Disease   \n",
       "\n",
       "                                           Indicator  Data_Value_Type  \\\n",
       "0  Rate of ischemic stroke mortality among US adu...                0   \n",
       "1  Rate of major cardiovascular disease mortality...                0   \n",
       "2  Rate of ischemic stroke mortality among US adu...                1   \n",
       "3  Rate of ischemic stroke mortality among US adu...                1   \n",
       "4  Rate of major cardiovascular disease mortality...                1   \n",
       "\n",
       "    Data_Value_Unit  Data_Value  LowConfidenceLimit  ...  \\\n",
       "0  Rate per 100,000        30.0                30.0  ...   \n",
       "1  Rate per 100,000       362.3               358.6  ...   \n",
       "2  Rate per 100,000        24.1                23.5  ...   \n",
       "3  Rate per 100,000         1.6                 1.6  ...   \n",
       "4  Rate per 100,000        28.0                27.9  ...   \n",
       "\n",
       "   Break_Out_Non-Hispanic White Break_Out_Other Break_Out_Overall  \\\n",
       "0                             0               0                 0   \n",
       "1                             0               1                 0   \n",
       "2                             0               0                 0   \n",
       "3                             0               0                 0   \n",
       "4                             0               0                 0   \n",
       "\n",
       "  Topic_Acute Myocardial Infarction (Heart Attack)  \\\n",
       "0                                                0   \n",
       "1                                                0   \n",
       "2                                                0   \n",
       "3                                                0   \n",
       "4                                                0   \n",
       "\n",
       "  Topic_Coronary Heart Disease Topic_Diseases of the Heart (Heart Disease)  \\\n",
       "0                            0                                           0   \n",
       "1                            0                                           0   \n",
       "2                            0                                           0   \n",
       "3                            0                                           0   \n",
       "4                            0                                           0   \n",
       "\n",
       "  Topic_Heart Failure  Topic_Major Cardiovascular Disease Topic_Stroke  \\\n",
       "0                   0                                   0            1   \n",
       "1                   0                                   1            0   \n",
       "2                   0                                   0            1   \n",
       "3                   0                                   0            1   \n",
       "4                   0                                   1            0   \n",
       "\n",
       "   AvgConfidenceLimit  \n",
       "0            1.000000  \n",
       "1            0.806205  \n",
       "2            0.679191  \n",
       "3            0.640000  \n",
       "4            0.992883  \n",
       "\n",
       "[5 rows x 43 columns]"
      ]
     },
     "execution_count": 5,
     "metadata": {},
     "output_type": "execute_result"
    }
   ],
   "source": [
    "stroke.head()"
   ]
  },
  {
   "cell_type": "markdown",
   "metadata": {},
   "source": [
    "### Defining Variables"
   ]
  },
  {
   "cell_type": "code",
   "execution_count": 6,
   "metadata": {},
   "outputs": [],
   "source": [
    "# Defining X and y variables\n",
    "X = stroke[['Data_Value','HighConfidenceLimit','LowConfidenceLimit','AvgConfidenceLimit','Data_Value_Type','LocationID','Year','Break_Out_Category_Age','Break_Out_Category_Gender','Break_Out_Category_Overall','Break_Out_Category_Race','Break_Out_18-24','Break_Out_25-44','Break_Out_35+','Break_Out_45-64','Break_Out_65+','Break_Out_75+','Break_Out_Female','Break_Out_Hispanic','Break_Out_Male','Break_Out_Non-Hispanic Black','Break_Out_Non-Hispanic White','Break_Out_Other','Break_Out_Overall']]\n",
    "y= stroke['Topic_Coronary Heart Disease']"
   ]
  },
  {
   "cell_type": "code",
   "execution_count": 7,
   "metadata": {},
   "outputs": [],
   "source": [
    "#doing train test split\n",
    "X_train, X_test, y_train, y_test = train_test_split(\n",
    "    X, y,\n",
    "    test_size = 0.33,\n",
    "    random_state = 42\n",
    ")"
   ]
  },
  {
   "cell_type": "code",
   "execution_count": 8,
   "metadata": {},
   "outputs": [],
   "source": [
    "sc = StandardScaler() #scaling the data\n",
    "X_train_sc = sc.fit_transform(X_train)\n",
    "X_test_sc = sc.transform(X_test)"
   ]
  },
  {
   "cell_type": "markdown",
   "metadata": {},
   "source": [
    "### Random Forest Classifier"
   ]
  },
  {
   "cell_type": "code",
   "execution_count": 9,
   "metadata": {},
   "outputs": [],
   "source": [
    "rf = RandomForestClassifier(n_estimators=200,max_depth=22,min_samples_leaf=10,min_samples_split=10) #initiating the RF model"
   ]
  },
  {
   "cell_type": "code",
   "execution_count": 10,
   "metadata": {},
   "outputs": [],
   "source": [
    "model = rf.fit(X_train_sc,y_train) #fitting the model"
   ]
  },
  {
   "cell_type": "code",
   "execution_count": 11,
   "metadata": {},
   "outputs": [
    {
     "data": {
      "text/plain": [
       "0.9553288208407223"
      ]
     },
     "execution_count": 11,
     "metadata": {},
     "output_type": "execute_result"
    }
   ],
   "source": [
    "model.score(X_train_sc,y_train) #calculating the train score"
   ]
  },
  {
   "cell_type": "code",
   "execution_count": 12,
   "metadata": {},
   "outputs": [
    {
     "data": {
      "text/plain": [
       "0.9427991886409737"
      ]
     },
     "execution_count": 12,
     "metadata": {},
     "output_type": "execute_result"
    }
   ],
   "source": [
    "model.score(X_test_sc,y_test) #calculating the test score"
   ]
  },
  {
   "cell_type": "markdown",
   "metadata": {},
   "source": [
    "It is a great score. the predictive score of 94% is good and the plan is not overfit. We can tell with 94% certainity that which category affects Coronary Heart disease the most"
   ]
  },
  {
   "cell_type": "code",
   "execution_count": 13,
   "metadata": {},
   "outputs": [
    {
     "data": {
      "text/plain": [
       "0    0.87322\n",
       "1    0.12678\n",
       "Name: Topic_Coronary Heart Disease, dtype: float64"
      ]
     },
     "execution_count": 13,
     "metadata": {},
     "output_type": "execute_result"
    }
   ],
   "source": [
    "# value count\n",
    "y.value_counts(normalize=True)"
   ]
  },
  {
   "cell_type": "markdown",
   "metadata": {},
   "source": [
    "### ExtraTrees Classifier"
   ]
  },
  {
   "cell_type": "code",
   "execution_count": 14,
   "metadata": {},
   "outputs": [],
   "source": [
    "et = ExtraTreesClassifier(n_estimators=200,max_depth=22,min_samples_leaf=6) #initiating the ET model"
   ]
  },
  {
   "cell_type": "code",
   "execution_count": 15,
   "metadata": {},
   "outputs": [
    {
     "data": {
      "text/plain": [
       "ExtraTreesClassifier(max_depth=22, min_samples_leaf=6, n_estimators=200)"
      ]
     },
     "execution_count": 15,
     "metadata": {},
     "output_type": "execute_result"
    }
   ],
   "source": [
    "et.fit(X_train,y_train) #fitting the model"
   ]
  },
  {
   "cell_type": "code",
   "execution_count": 16,
   "metadata": {},
   "outputs": [
    {
     "data": {
      "text/plain": [
       "0.9416914354222344"
      ]
     },
     "execution_count": 16,
     "metadata": {},
     "output_type": "execute_result"
    }
   ],
   "source": [
    "et.score(X_train,y_train) #calculating the train score"
   ]
  },
  {
   "cell_type": "code",
   "execution_count": 17,
   "metadata": {},
   "outputs": [
    {
     "data": {
      "text/plain": [
       "0.9350152129817444"
      ]
     },
     "execution_count": 17,
     "metadata": {},
     "output_type": "execute_result"
    }
   ],
   "source": [
    "et.score(X_test,y_test) #calculating the test score"
   ]
  },
  {
   "cell_type": "markdown",
   "metadata": {},
   "source": [
    "It is a great score. the predictive score of 93% is good and the plan is not overfit. We can tell with 93% certainity that which category affects Coronary Heart disease the most"
   ]
  },
  {
   "cell_type": "markdown",
   "metadata": {},
   "source": [
    "### Confusion Matrix"
   ]
  },
  {
   "cell_type": "code",
   "execution_count": 18,
   "metadata": {},
   "outputs": [],
   "source": [
    "# Predict off the scaled version of X_test\n",
    "y_preds = rf.predict(X_test_sc)"
   ]
  },
  {
   "cell_type": "code",
   "execution_count": 19,
   "metadata": {},
   "outputs": [
    {
     "data": {
      "text/plain": [
       "array([[33867,   565],\n",
       "       [ 1691,  3317]], dtype=int64)"
      ]
     },
     "execution_count": 19,
     "metadata": {},
     "output_type": "execute_result"
    }
   ],
   "source": [
    "# As this is a binary classification problem, the confusion matrix will be a \n",
    "# 2x2 numpy array. If this were a multiclass problem the matrix would grow to meet \n",
    "# the number of options or classes in your target variable.\n",
    "cm = confusion_matrix(y_test, y_preds); cm"
   ]
  },
  {
   "cell_type": "code",
   "execution_count": 20,
   "metadata": {},
   "outputs": [
    {
     "name": "stdout",
     "output_type": "stream",
     "text": [
      "True Negatives: 33867\n",
      "True Positives: 3317\n",
      "False Positives: 565\n",
      "False Negatives: 1691\n"
     ]
    }
   ],
   "source": [
    "#Checking the postives and negatives of the model\n",
    "tn = cm[0, 0]; print(\"True Negatives:\", tn)\n",
    "tp = cm[1, 1]; print(\"True Positives:\", tp)\n",
    "fp = cm[0, 1]; print(\"False Positives:\", fp)\n",
    "fn = cm[1, 0]; print(\"False Negatives:\", fn)"
   ]
  },
  {
   "cell_type": "code",
   "execution_count": 21,
   "metadata": {},
   "outputs": [
    {
     "name": "stdout",
     "output_type": "stream",
     "text": [
      "Woohoo- got them 'right'\n",
      "true negatives: 33867\n",
      "true positive: 3317\n",
      "------------------------------\n",
      "Misclassified\n",
      "false positives: 565\n",
      "false negatives: 1691\n"
     ]
    }
   ],
   "source": [
    "confusion_matrix(y_test, y_preds)\n",
    "tn, fp, fn, tp = confusion_matrix(y_test, y_preds).ravel()\n",
    "print(\"Woohoo- got them 'right'\")\n",
    "print(\"true negatives:\", tn)\n",
    "print(\"true positive:\", tp)\n",
    "print(\"------------------------------\")\n",
    "print(\"Misclassified\")\n",
    "print(\"false positives:\", fp)\n",
    "print(\"false negatives:\", fn)"
   ]
  },
  {
   "cell_type": "markdown",
   "metadata": {},
   "source": [
    "In this Confusion Matrix, we can better explain the outcome\n",
    "\n",
    "- True negatives means that we correctly pridicted the people who don't have Coronary Heart Disease\n",
    "- True positives means that we correctly predicted the people who have Coronary Heart Disease\n",
    "- False positives means that we incorrectly predicted the people who have Coronary Heart Disease(who actually don't have Coronary Heart Disease)\n",
    "- False negatives means that we incorrectly predicted the people who don't have Coronary Heart Disease(who actually have Coronary Heart Disease)"
   ]
  },
  {
   "cell_type": "code",
   "execution_count": 22,
   "metadata": {},
   "outputs": [
    {
     "data": {
      "image/png": "[encoded data removed]",
      "text/plain": [
       "<Figure size 432x288 with 2 Axes>"
      ]
     },
     "metadata": {
      "needs_background": "light"
     },
     "output_type": "display_data"
    }
   ],
   "source": [
    "from sklearn.metrics import plot_confusion_matrix #plotting confusion matrix\n",
    "plot_confusion_matrix(rf, X_test_sc, y_test, cmap='Blues', values_format='d');"
   ]
  },
  {
   "cell_type": "markdown",
   "metadata": {},
   "source": [
    "Accuracy = Number of correct predictions Total number of predictions"
   ]
  },
  {
   "cell_type": "code",
   "execution_count": 23,
   "metadata": {},
   "outputs": [
    {
     "data": {
      "text/plain": [
       "39450.21012963521"
      ]
     },
     "execution_count": 23,
     "metadata": {},
     "output_type": "execute_result"
    }
   ],
   "source": [
    "#Accuracy = All correct / all\n",
    "Accuracy = tp + tn / tp + tn + fp + fn\n",
    "Accuracy"
   ]
  },
  {
   "cell_type": "code",
   "execution_count": 24,
   "metadata": {},
   "outputs": [
    {
     "name": "stdout",
     "output_type": "stream",
     "text": [
      "Specificity: 0.9836\n"
     ]
    }
   ],
   "source": [
    "# What is the test specificity of our model?\n",
    "\n",
    "spec = tn / (tn + fp)\n",
    "\n",
    "print(f'Specificity: {round(spec,4)}')\n"
   ]
  },
  {
   "cell_type": "markdown",
   "metadata": {},
   "source": [
    "Test Specificity is the ability of the test to correctly identify those without the disease (true negative rate)"
   ]
  },
  {
   "cell_type": "code",
   "execution_count": 25,
   "metadata": {},
   "outputs": [
    {
     "name": "stdout",
     "output_type": "stream",
     "text": [
      "Sensitivity: 0.6623\n"
     ]
    }
   ],
   "source": [
    "# What is the test sensitivity of our model?\n",
    "\n",
    "sens = tp / (tp + fn)\n",
    "\n",
    "print(f'Sensitivity: {round(sens,4)}')\n"
   ]
  },
  {
   "cell_type": "markdown",
   "metadata": {},
   "source": [
    "Test Sensitivity is the ability of a test to correctly identify those with the disease (true positive rate)"
   ]
  },
  {
   "cell_type": "code",
   "execution_count": 26,
   "metadata": {},
   "outputs": [
    {
     "data": {
      "text/plain": [
       "array([[0.96492247, 0.03507753],\n",
       "       [0.77233867, 0.22766133],\n",
       "       [0.96492247, 0.03507753],\n",
       "       [0.96492247, 0.03507753],\n",
       "       [0.96492247, 0.03507753],\n",
       "       [0.96492247, 0.03507753],\n",
       "       [0.77233867, 0.22766133],\n",
       "       [0.96492247, 0.03507753],\n",
       "       [0.96770307, 0.03229693],\n",
       "       [0.96492247, 0.03507753]])"
      ]
     },
     "execution_count": 26,
     "metadata": {},
     "output_type": "execute_result"
    }
   ],
   "source": [
    "rf.predict_proba(X_test)[:10]\n",
    "\n",
    "#lr.predict_proba(X_test)[:, 0][:10]\n",
    "#lr.predict_proba(X_test)[:, 1][:10]\n",
    "\n",
    "\n",
    "# The first row for example...\n",
    "\n",
    "# 0.99168003 is the probability that the output will be 0 (Basically ~99% probability)\n",
    "# 0.00831997 is the probability that the output will be 1 (Basically sub 1% probability)\n"
   ]
  },
  {
   "cell_type": "code",
   "execution_count": 27,
   "metadata": {},
   "outputs": [],
   "source": [
    "# Let's create a dataframe called pred_df that contains:\n",
    "# 1. The list of true values of our test set.\n",
    "# 2. The list of predicted probabilities based on our model.\n",
    "\n",
    "pred_proba = [i[1] for i in rf.predict_proba(X_test)]\n",
    "\n",
    "# The value of each y along with the probability of being 1\n",
    "pred_df = pd.DataFrame({'true_values': y_test,\n",
    "                        'pred_probs':pred_proba})\n",
    "\n"
   ]
  },
  {
   "cell_type": "code",
   "execution_count": 28,
   "metadata": {},
   "outputs": [
    {
     "data": {
      "text/html": [
       "<div>\n",
       "<style scoped>\n",
       "    .dataframe tbody tr th:only-of-type {\n",
       "        vertical-align: middle;\n",
       "    }\n",
       "\n",
       "    .dataframe tbody tr th {\n",
       "        vertical-align: top;\n",
       "    }\n",
       "\n",
       "    .dataframe thead th {\n",
       "        text-align: right;\n",
       "    }\n",
       "</style>\n",
       "<table border=\"1\" class=\"dataframe\">\n",
       "  <thead>\n",
       "    <tr style=\"text-align: right;\">\n",
       "      <th></th>\n",
       "      <th>true_values</th>\n",
       "      <th>pred_probs</th>\n",
       "    </tr>\n",
       "  </thead>\n",
       "  <tbody>\n",
       "    <tr>\n",
       "      <th>89550</th>\n",
       "      <td>0</td>\n",
       "      <td>0.032297</td>\n",
       "    </tr>\n",
       "    <tr>\n",
       "      <th>32684</th>\n",
       "      <td>0</td>\n",
       "      <td>0.035078</td>\n",
       "    </tr>\n",
       "    <tr>\n",
       "      <th>32273</th>\n",
       "      <td>0</td>\n",
       "      <td>0.227661</td>\n",
       "    </tr>\n",
       "    <tr>\n",
       "      <th>21528</th>\n",
       "      <td>0</td>\n",
       "      <td>0.031106</td>\n",
       "    </tr>\n",
       "    <tr>\n",
       "      <th>33470</th>\n",
       "      <td>0</td>\n",
       "      <td>0.032297</td>\n",
       "    </tr>\n",
       "    <tr>\n",
       "      <th>57468</th>\n",
       "      <td>1</td>\n",
       "      <td>0.032297</td>\n",
       "    </tr>\n",
       "    <tr>\n",
       "      <th>16797</th>\n",
       "      <td>0</td>\n",
       "      <td>0.035078</td>\n",
       "    </tr>\n",
       "    <tr>\n",
       "      <th>36585</th>\n",
       "      <td>0</td>\n",
       "      <td>0.035078</td>\n",
       "    </tr>\n",
       "    <tr>\n",
       "      <th>80305</th>\n",
       "      <td>0</td>\n",
       "      <td>0.066480</td>\n",
       "    </tr>\n",
       "    <tr>\n",
       "      <th>108164</th>\n",
       "      <td>0</td>\n",
       "      <td>0.227661</td>\n",
       "    </tr>\n",
       "  </tbody>\n",
       "</table>\n",
       "</div>"
      ],
      "text/plain": [
       "        true_values  pred_probs\n",
       "89550             0    0.032297\n",
       "32684             0    0.035078\n",
       "32273             0    0.227661\n",
       "21528             0    0.031106\n",
       "33470             0    0.032297\n",
       "57468             1    0.032297\n",
       "16797             0    0.035078\n",
       "36585             0    0.035078\n",
       "80305             0    0.066480\n",
       "108164            0    0.227661"
      ]
     },
     "execution_count": 28,
     "metadata": {},
     "output_type": "execute_result"
    }
   ],
   "source": [
    "pred_df.head(10)\n",
    "pred_df.tail(10)"
   ]
  },
  {
   "cell_type": "code",
   "execution_count": 29,
   "metadata": {},
   "outputs": [
    {
     "data": {
      "image/png": "[encoded data removed]",
      "text/plain": [
       "<Figure size 504x288 with 1 Axes>"
      ]
     },
     "metadata": {
      "needs_background": "light"
     },
     "output_type": "display_data"
    }
   ],
   "source": [
    "# Create figure.\n",
    "plt.figure(figsize = (7,4))\n",
    "\n",
    "# Create histogram of observations.\n",
    "plt.hist(pred_df['pred_probs'], bins = 25)\n",
    "\n",
    "# Label axes.\n",
    "plt.title('Distribution of P(Outcome = 1)', fontsize = 22)\n",
    "plt.ylabel('Frequency', fontsize = 18)\n",
    "plt.xlabel('Predicted Probability that Outcome = 1', fontsize = 18);"
   ]
  },
  {
   "cell_type": "code",
   "execution_count": 30,
   "metadata": {},
   "outputs": [
    {
     "data": {
      "image/png": "[encoded data removed]",
      "text/plain": [
       "<Figure size 432x288 with 1 Axes>"
      ]
     },
     "metadata": {
      "needs_background": "light"
     },
     "output_type": "display_data"
    }
   ],
   "source": [
    "from sklearn.metrics import plot_roc_curve\n",
    "plot_roc_curve(model, X_test, y_test);"
   ]
  },
  {
   "cell_type": "code",
   "execution_count": 31,
   "metadata": {},
   "outputs": [
    {
     "data": {
      "image/png": "[encoded data removed]",
      "text/plain": [
       "<Figure size 576x432 with 1 Axes>"
      ]
     },
     "metadata": {
      "needs_background": "light"
     },
     "output_type": "display_data"
    }
   ],
   "source": [
    "# Create figure.\n",
    "plt.figure(figsize = (8,6))\n",
    "\n",
    "# Create threshold values.\n",
    "thresholds = np.linspace(0, 1, 200)\n",
    "\n",
    "# Define function to calculate sensitivity. (True positive rate.)\n",
    "def TPR(df, true_col, pred_prob_col, threshold):\n",
    "    true_positive = df[(df[true_col] == 1) & (df[pred_prob_col] >= threshold)].shape[0]\n",
    "    false_negative = df[(df[true_col] == 1) & (df[pred_prob_col] < threshold)].shape[0]\n",
    "    return true_positive / (true_positive + false_negative)\n",
    "    \n",
    "\n",
    "# Define function to calculate 1 - specificity. (False positive rate.)\n",
    "def FPR(df, true_col, pred_prob_col, threshold):\n",
    "    true_negative = df[(df[true_col] == 0) & (df[pred_prob_col] <= threshold)].shape[0]\n",
    "    false_positive = df[(df[true_col] == 0) & (df[pred_prob_col] > threshold)].shape[0]\n",
    "    return 1 - (true_negative / (true_negative + false_positive))\n",
    "    \n",
    "# Calculate sensitivity & 1-specificity for each threshold between 0 and 1.\n",
    "tpr_values = [TPR(pred_df, 'true_values', 'pred_probs', prob) for prob in thresholds]\n",
    "fpr_values = [FPR(pred_df, 'true_values', 'pred_probs', prob) for prob in thresholds]\n",
    "\n",
    "# Plot ROC curve.\n",
    "plt.plot(fpr_values, # False Positive Rate on X-axis\n",
    "         tpr_values, # True Positive Rate on Y-axis\n",
    "         label='ROC Curve')\n",
    "\n",
    "# Plot baseline. (Perfect overlap between the two populations.)\n",
    "plt.plot(np.linspace(0, 1, 200),\n",
    "         np.linspace(0, 1, 200),\n",
    "         label='baseline',\n",
    "         linestyle='--')\n",
    "\n",
    "# Label axes.\n",
    "plt.title('Receiver Operating Characteristic Curve', fontsize=22)\n",
    "plt.ylabel('Sensitivity \\n (True Positive Rate)', fontsize=18)\n",
    "plt.xlabel('1 - Specificity \\n (False Positive Rate)', fontsize=18)\n",
    "\n",
    "# Create legend.\n",
    "plt.legend(fontsize=16);"
   ]
  }
 ],
 "metadata": {
  "kernelspec": {
   "display_name": "Python 3",
   "language": "python",
   "name": "python3"
  },
  "language_info": {
   "codemirror_mode": {
    "name": "ipython",
    "version": 3
   },
   "file_extension": ".py",
   "mimetype": "text/x-python",
   "name": "python",
   "nbconvert_exporter": "python",
   "pygments_lexer": "ipython3",
   "version": "3.8.5"
  }
 },
 "nbformat": 4,
 "nbformat_minor": 4
}
